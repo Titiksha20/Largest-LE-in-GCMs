{
  "nbformat": 4,
  "nbformat_minor": 0,
  "metadata": {
    "colab": {
      "provenance": []
    },
    "kernelspec": {
      "name": "python3",
      "display_name": "Python 3"
    },
    "language_info": {
      "name": "python"
    }
  },
  "cells": [
    {
      "cell_type": "code",
      "execution_count": null,
      "metadata": {
        "id": "iTuvrfCMCcvs"
      },
      "outputs": [],
      "source": [
        "!pip uninstall -y cupy-cuda11x cupy-cuda12x cupy"
      ]
    },
    {
      "cell_type": "code",
      "source": [
        "!pip install cupy-cuda12x"
      ],
      "metadata": {
        "id": "PcHZeK0dCv8r"
      },
      "execution_count": null,
      "outputs": []
    },
    {
      "cell_type": "code",
      "source": [
        "!apt-cache search cuda-cusparse"
      ],
      "metadata": {
        "id": "MNb63CAgCyX0"
      },
      "execution_count": null,
      "outputs": []
    },
    {
      "cell_type": "code",
      "source": [
        "!nvidia-smi"
      ],
      "metadata": {
        "id": "b3EDjnyzC0GM"
      },
      "execution_count": null,
      "outputs": []
    },
    {
      "cell_type": "code",
      "source": [
        "import cupy as cp\n",
        "import numpy as np\n",
        "import matplotlib.pyplot as plt\n",
        "import networkx as nx\n",
        "from tqdm import tqdm\n",
        "from scipy.optimize import curve_fit\n",
        "\n",
        "# --- Map and derivative using GPU ---\n",
        "def f_SB(x, b):\n",
        "    return cp.where(x <= 1 / b, b * x, (b * x - 1) / (b - 1))\n",
        "\n",
        "def df_SB(x, b):\n",
        "    return cp.where(x <= 1 / b, b, b / (b - 1))\n",
        "\n",
        "# --- Evolve system on GPU ---\n",
        "def evolve_system_gpu(N, p, T, epsilon, b, seed):\n",
        "    rng = np.random.default_rng(seed)\n",
        "\n",
        "    G = nx.erdos_renyi_graph(N, p, seed=rng, directed=False)\n",
        "    A_cpu = nx.adjacency_matrix(G).astype(np.float32)\n",
        "    A_cpu.setdiag(1.0)\n",
        "    A_cpu = A_cpu.tocsr()\n",
        "\n",
        "    deg = np.array(A_cpu.sum(axis=1)).flatten()\n",
        "    deg_safe = np.where(deg == 0, 1, deg)\n",
        "    A_gpu = cp.sparse.csr_matrix(A_cpu)\n",
        "    deg_safe_gpu = cp.asarray(deg_safe)\n",
        "\n",
        "    y = cp.asarray(rng.uniform(0, 1, N), dtype=cp.float32)\n",
        "    v = cp.asarray(rng.uniform(-1e-8, 1e-8, N), dtype=cp.float32)\n",
        "\n",
        "    le_sum = 0.0\n",
        "    for _ in range(T):\n",
        "        local = f_SB(y, b)\n",
        "        coupling = A_gpu @ local / deg_safe_gpu\n",
        "        y = (1 - epsilon) * local + epsilon * coupling\n",
        "\n",
        "        J = df_SB(y, b)\n",
        "        v = (1 - epsilon) * J * v + epsilon * (A_gpu @ (J * v) / deg_safe_gpu)\n",
        "\n",
        "        v_norm = cp.linalg.norm(v)\n",
        "        if v_norm == 0:\n",
        "            continue\n",
        "        le_sum += cp.log(cp.abs(v_norm))\n",
        "        v /= v_norm\n",
        "\n",
        "    return float(le_sum / T)\n",
        "\n",
        "# --- λ(N) for a single p ---\n",
        "def compute_LE_for_single_p(N_list, T, epsilon, b, p, n_trials=4):\n",
        "    lambda_list = []\n",
        "    for N in N_list:\n",
        "        print(f\"\\n>>> Running N = {N} <<<\")\n",
        "        seeds = np.arange(n_trials) + 100\n",
        "        results = [evolve_system_gpu(N, p, T, epsilon, b, seed) for seed in seeds]\n",
        "        lambda_avg = np.mean(results)\n",
        "        lambda_list.append(lambda_avg)\n",
        "    return np.array(lambda_list)\n",
        "\n",
        "# --- R² utility ---\n",
        "def r2_score(y_true, y_pred):\n",
        "    ss_res = np.sum((y_true - y_pred)**2)\n",
        "    ss_tot = np.sum((y_true - np.mean(y_true))**2)\n",
        "    return 1 - ss_res / ss_tot\n",
        "\n",
        "# --- Main simulation, plotting, saving ---\n",
        "def run_simulation_single_p(N_list, p, T=1000, epsilon=0.3, b=4, n_trials=4, filename=\"lyap_data.npz\"):\n",
        "    # Compute λ(N)\n",
        "    lambda_array = compute_LE_for_single_p(N_list, T, epsilon, b, p, n_trials)\n",
        "\n",
        "    # λ(N) vs 1/ln(N)\n",
        "    plt.figure(figsize=(12, 5))\n",
        "    x1 = 1 / np.log(N_list)\n",
        "    coeffs1 = np.polyfit(x1, lambda_array, 1)\n",
        "    y1_fit = np.polyval(coeffs1, x1)\n",
        "    r2_1 = r2_score(lambda_array, y1_fit)\n",
        "\n",
        "    plt.subplot(1, 2, 1)\n",
        "    plt.plot(x1, lambda_array, 'bo', label='Data')\n",
        "    plt.plot(x1, y1_fit, 'g--', label='Fit')\n",
        "    plt.xlabel('1 / ln(N)')\n",
        "    plt.ylabel('λ(N)')\n",
        "    plt.title(f'Logarithmic Fit\\n$R^2$ = {r2_1:.4f}')\n",
        "    plt.legend()\n",
        "\n",
        "    # ln(λ∞ - λ(N)) vs ln(N)\n",
        "    lambda_inf = np.mean(lambda_array[-3:])\n",
        "    delta = np.abs(lambda_inf - lambda_array) + 1e-12\n",
        "    x2 = np.log(N_list)\n",
        "    y2 = np.log(delta)\n",
        "    coeffs2 = np.polyfit(x2, y2, 1)\n",
        "    y2_fit = np.polyval(coeffs2, x2)\n",
        "    r2_2 = r2_score(y2, y2_fit)\n",
        "    gamma = -coeffs2[0]\n",
        "\n",
        "    plt.subplot(1, 2, 2)\n",
        "    plt.plot(x2, y2, 'bo', label='Data')\n",
        "    plt.plot(x2, y2_fit, 'g--', label='Fit')\n",
        "    plt.xlabel('ln(N)')\n",
        "    plt.ylabel('ln(λ∞ - λ(N))')\n",
        "    plt.title(f'Power-law Fit, γ ≈ {gamma:.2f}\\n$R^2$ = {r2_2:.4f}')\n",
        "    plt.legend()\n",
        "    plt.tight_layout()\n",
        "    plt.show()\n",
        "\n",
        "    # Save data\n",
        "    np.savez(filename, N_list=N_list, p=p, lambda_array=lambda_array,\n",
        "             lambda_inf=lambda_inf, gamma=gamma, r2_log=r2_1, r2_power=r2_2)\n",
        "    print(f\"Data saved to {filename}\")\n",
        "\n",
        "    return lambda_array, gamma, r2_1, r2_2\n",
        "\n"
      ],
      "metadata": {
        "id": "Wc1BbC4dCeoQ"
      },
      "execution_count": null,
      "outputs": []
    },
    {
      "cell_type": "code",
      "source": [
        "N_list = [400, 800, 1600, 3200, 6400, 12800, 25600]\n",
        "p = 0.2\n",
        "lambda_array, gamma, r2_log, r2_power = run_simulation_single_p(N_list, p)"
      ],
      "metadata": {
        "id": "jxS-WbXkCg7K"
      },
      "execution_count": null,
      "outputs": []
    }
  ]
}